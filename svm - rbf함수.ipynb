{
 "cells": [
  {
   "cell_type": "code",
   "execution_count": 8,
   "metadata": {
    "ExecuteTime": {
     "end_time": "2020-10-18T15:05:18.100243Z",
     "start_time": "2020-10-18T15:05:18.098246Z"
    }
   },
   "outputs": [],
   "source": [
    "import numpy as np"
   ]
  },
  {
   "cell_type": "code",
   "execution_count": 9,
   "metadata": {
    "ExecuteTime": {
     "end_time": "2020-10-18T15:05:18.365530Z",
     "start_time": "2020-10-18T15:05:18.356555Z"
    }
   },
   "outputs": [],
   "source": [
    "x1 = np.array([-4,-3, 3, 4])\n",
    "x2 = np.array([-2,-1,0,1,2])"
   ]
  },
  {
   "cell_type": "code",
   "execution_count": 13,
   "metadata": {
    "ExecuteTime": {
     "end_time": "2020-10-18T15:07:37.124126Z",
     "start_time": "2020-10-18T15:07:37.121132Z"
    }
   },
   "outputs": [],
   "source": [
    "import matplotlib.pyplot as plt\n",
    "plt.rc('font', family='Malgun Gothic')\n",
    "# Mac의 경우 AppleGothic \n",
    "plt.rcParams['axes.unicode_minus'] = False"
   ]
  },
  {
   "cell_type": "code",
   "execution_count": 21,
   "metadata": {
    "ExecuteTime": {
     "end_time": "2020-10-18T15:05:19.139345Z",
     "start_time": "2020-10-18T15:05:19.013713Z"
    }
   },
   "outputs": [
    {
     "data": {
      "image/png": "[encoded data removed]",
      "text/plain": [
       "<Figure size 360x216 with 1 Axes>"
      ]
     },
     "metadata": {
      "needs_background": "light"
     },
     "output_type": "display_data"
    }
   ],
   "source": [
    "plt.figure(figsize=(5,3))\n",
    "plt.scatter(x1, [0,0,0,0], s=30, marker='s')\n",
    "plt.scatter(x2, [0,0,0,0,0], s=35, marker='^')\n",
    "plt.axhline(0, c='k', linewidth=0.5)\n",
    "plt.axvline(0, c='k', linewidth=0.5)\n",
    "plt.yticks([])\n",
    "plt.ylim(-1,3)\n",
    "plt.show()"
   ]
  },
  {
   "cell_type": "code",
   "execution_count": 22,
   "metadata": {
    "ExecuteTime": {
     "end_time": "2020-10-18T15:05:20.267328Z",
     "start_time": "2020-10-18T15:05:20.261346Z"
    }
   },
   "outputs": [],
   "source": [
    "# gamma = 1\n",
    "def rbf_func( x, l, gamma=1):\n",
    "    return np.exp(-gamma * np.square(np.abs(x-l)))"
   ]
  },
  {
   "cell_type": "code",
   "execution_count": 23,
   "metadata": {
    "ExecuteTime": {
     "end_time": "2020-10-18T15:16:11.374344Z",
     "start_time": "2020-10-18T15:16:11.365400Z"
    }
   },
   "outputs": [
    {
     "name": "stdout",
     "output_type": "stream",
     "text": [
      "gamma 0.1: 0.9048374180359595 0.6703200460356393\n",
      "gamma 0.1: 0.6703200460356393 0.9048374180359595\n"
     ]
    }
   ],
   "source": [
    "print('gamma 0.1:',rbf_func(-1, -2, 0.1),rbf_func(-1, 1, 0.1))\n",
    "print('gamma 0.1:',rbf_func(0, -2, 0.1),rbf_func(0, 1, 0.1))"
   ]
  },
  {
   "cell_type": "code",
   "execution_count": 24,
   "metadata": {
    "ExecuteTime": {
     "end_time": "2020-10-18T15:15:45.278198Z",
     "start_time": "2020-10-18T15:15:45.257254Z"
    }
   },
   "outputs": [
    {
     "name": "stdout",
     "output_type": "stream",
     "text": [
      "gamma 0.5: 0.6065306597126334 0.1353352832366127\n",
      "gamma 0.5: 0.1353352832366127 0.6065306597126334\n"
     ]
    }
   ],
   "source": [
    "print('gamma 0.5:',rbf_func(-1, -2, 0.5),rbf_func(-1, 1, 0.5))\n",
    "print('gamma 0.5:',rbf_func(0, -2, 0.5),rbf_func(0, 1, 0.5))"
   ]
  },
  {
   "cell_type": "code",
   "execution_count": 25,
   "metadata": {
    "ExecuteTime": {
     "end_time": "2020-10-18T15:11:03.817337Z",
     "start_time": "2020-10-18T15:11:03.799410Z"
    }
   },
   "outputs": [
    {
     "name": "stdout",
     "output_type": "stream",
     "text": [
      "gamma 1: 0.36787944117144233 0.01831563888873418\n",
      "gamma 1: 0.01831563888873418 0.36787944117144233\n"
     ]
    }
   ],
   "source": [
    "print('gamma 1:',rbf_func(-1, -2),rbf_func(-1,1))\n",
    "print('gamma 1:',rbf_func(0, -2),rbf_func(0, 1))"
   ]
  },
  {
   "cell_type": "code",
   "execution_count": 26,
   "metadata": {
    "ExecuteTime": {
     "end_time": "2020-10-18T15:05:26.133357Z",
     "start_time": "2020-10-18T15:05:26.120391Z"
    }
   },
   "outputs": [],
   "source": [
    "# x축은 landmark1, y축은 landmark2의 결과\n",
    "def make_plot(x_lmark1, y_lmark1, x_lmark2, y_lmark2, title=''):\n",
    "    plt.figure(figsize=(6,4))\n",
    "    plt.scatter(x_lmark1,y_lmark1, label='X1')\n",
    "    plt.scatter(x_lmark2,y_lmark2, label='X2')\n",
    "    plt.xlabel('기준 -2')\n",
    "    plt.ylabel('기준 1')\n",
    "    plt.title(title)\n",
    "    plt.legend()\n",
    "    plt.show()"
   ]
  },
  {
   "cell_type": "code",
   "execution_count": 27,
   "metadata": {
    "ExecuteTime": {
     "end_time": "2020-10-18T15:07:53.540315Z",
     "start_time": "2020-10-18T15:07:53.351785Z"
    }
   },
   "outputs": [
    {
     "data": {
      "image/png": "[encoded data removed]",
      "text/plain": [
       "<Figure size 432x288 with 1 Axes>"
      ]
     },
     "metadata": {
      "needs_background": "light"
     },
     "output_type": "display_data"
    }
   ],
   "source": [
    "gamma=0.3\n",
    "# landmark\n",
    "lm1, lm2 = -2, 1\n",
    "#landmark1\n",
    "x3 = rbf_func(x1, lm1, gamma=gamma)  #x1\n",
    "x4 = rbf_func(x1, lm2, gamma=gamma)  #x2\n",
    "#landmark2\n",
    "x5 = rbf_func(x2, lm1, gamma=gamma) #x1\n",
    "x6 = rbf_func(x2, lm2, gamma=gamma) #x2\n",
    "\n",
    "make_plot(x3,x4,x5,x6, title='gamma=0.3')"
   ]
  },
  {
   "cell_type": "code",
   "execution_count": 28,
   "metadata": {
    "ExecuteTime": {
     "end_time": "2020-10-18T15:05:29.333475Z",
     "start_time": "2020-10-18T15:05:29.167881Z"
    }
   },
   "outputs": [
    {
     "data": {
      "image/png": "[encoded data removed]",
      "text/plain": [
       "<Figure size 432x288 with 1 Axes>"
      ]
     },
     "metadata": {
      "needs_background": "light"
     },
     "output_type": "display_data"
    }
   ],
   "source": [
    "gamma=0.5\n",
    "# landmark\n",
    "lm1, lm2 = -2, 1\n",
    "#landmark1\n",
    "x3 = rbf_func(x1, lm1, gamma=gamma)  #x1\n",
    "x4 = rbf_func(x1, lm2, gamma=gamma)  #x2\n",
    "#landmark2\n",
    "x5 = rbf_func(x2, lm1, gamma=gamma) #x1\n",
    "x6 = rbf_func(x2, lm2, gamma=gamma) #x2\n",
    "\n",
    "make_plot(x3,x4,x5,x6, title='gamma=0.7')"
   ]
  },
  {
   "cell_type": "code",
   "execution_count": 29,
   "metadata": {
    "ExecuteTime": {
     "end_time": "2020-10-18T15:05:34.430748Z",
     "start_time": "2020-10-18T15:05:34.257773Z"
    }
   },
   "outputs": [
    {
     "data": {
      "image/png": "[encoded data removed]",
      "text/plain": [
       "<Figure size 432x288 with 1 Axes>"
      ]
     },
     "metadata": {
      "needs_background": "light"
     },
     "output_type": "display_data"
    }
   ],
   "source": [
    "gamma=0.8\n",
    "# landmark\n",
    "lm1, lm2 = -2, 1\n",
    "#landmark1\n",
    "x3 = rbf_func(x1, lm1, gamma=gamma)  #x1\n",
    "x4 = rbf_func(x1, lm2, gamma=gamma)  #x2\n",
    "#landmark2\n",
    "x5 = rbf_func(x2, lm1, gamma=gamma) #x1\n",
    "x6 = rbf_func(x2, lm2, gamma=gamma) #x2\n",
    "\n",
    "make_plot(x3,x4,x5,x6, title='gamma=0.3')"
   ]
  }
 ],
 "metadata": {
  "kernelspec": {
   "display_name": "Python 3",
   "language": "python",
   "name": "python3"
  },
  "language_info": {
   "codemirror_mode": {
    "name": "ipython",
    "version": 3
   },
   "file_extension": ".py",
   "mimetype": "text/x-python",
   "name": "python",
   "nbconvert_exporter": "python",
   "pygments_lexer": "ipython3",
   "version": "3.7.6"
  },
  "toc": {
   "base_numbering": 1,
   "nav_menu": {},
   "number_sections": true,
   "sideBar": true,
   "skip_h1_title": false,
   "title_cell": "Table of Contents",
   "title_sidebar": "Contents",
   "toc_cell": false,
   "toc_position": {},
   "toc_section_display": true,
   "toc_window_display": false
  },
  "varInspector": {
   "cols": {
    "lenName": 16,
    "lenType": 16,
    "lenVar": 40
   },
   "kernels_config": {
    "python": {
     "delete_cmd_postfix": "",
     "delete_cmd_prefix": "del ",
     "library": "var_list.py",
     "varRefreshCmd": "print(var_dic_list())"
    },
    "r": {
     "delete_cmd_postfix": ") ",
     "delete_cmd_prefix": "rm(",
     "library": "var_list.r",
     "varRefreshCmd": "cat(var_dic_list()) "
    }
   },
   "types_to_exclude": [
    "module",
    "function",
    "builtin_function_or_method",
    "instance",
    "_Feature"
   ],
   "window_display": false
  }
 },
 "nbformat": 4,
 "nbformat_minor": 4
}
